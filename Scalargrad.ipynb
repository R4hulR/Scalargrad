{
  "nbformat": 4,
  "nbformat_minor": 0,
  "metadata": {
    "colab": {
      "provenance": [],
      "authorship_tag": "ABX9TyNxmPynZQQviQvWd5di3sNI",
      "include_colab_link": true
    },
    "kernelspec": {
      "name": "python3",
      "display_name": "Python 3"
    },
    "language_info": {
      "name": "python"
    }
  },
  "cells": [
    {
      "cell_type": "markdown",
      "metadata": {
        "id": "view-in-github",
        "colab_type": "text"
      },
      "source": [
        "<a href=\"https://colab.research.google.com/github/R4hulR/Scalargrad/blob/main/Scalargrad.ipynb\" target=\"_parent\"><img src=\"https://colab.research.google.com/assets/colab-badge.svg\" alt=\"Open In Colab\"/></a>"
      ]
    },
    {
      "cell_type": "code",
      "execution_count": 60,
      "metadata": {
        "id": "9zLyg_I2nXEu"
      },
      "outputs": [],
      "source": [
        "import math\n",
        "import numpy as np\n",
        "import matplotlib.pyplot as plt\n",
        "%matplotlib inline\n"
      ]
    },
    {
      "cell_type": "markdown",
      "source": [
        "Forward Pass"
      ],
      "metadata": {
        "id": "9Og03lS_4XLK"
      }
    },
    {
      "cell_type": "code",
      "source": [
        "class Value:\n",
        "  def __init__(self,data,_children={},_op='',label=''):\n",
        "    self.data = data\n",
        "    self.grad = 0.0\n",
        "    self._backward = lambda: None\n",
        "    self._prev=set(_children)\n",
        "    self._op = _op\n",
        "    self.label = label\n",
        "  def __repr__(self):\n",
        "    return f\"Value(data={self.data})\"\n",
        "  def __add__(self,other):\n",
        "    other = other if isinstance(other,Value) else Value(other)\n",
        "    out = Value(self.data + other.data, (self,other),'+')\n",
        "    def _backward():\n",
        "      self.grad += 1.0 * out.grad\n",
        "      other.grad += 1.0 * out.grad\n",
        "    out._backward = _backward\n",
        "    return out\n",
        "\n",
        "  def __mul__(self,other):\n",
        "    other = other if isinstance(other,Value) else Value(other)\n",
        "    out = Value(self.data * other.data, (self,other),'*')\n",
        "    def _backward():\n",
        "      self.grad += other.data * out.grad\n",
        "      other.grad += self.data * out.grad\n",
        "    out._backward = _backward\n",
        "    return out\n",
        "\n",
        "  def __pow__(self,other):\n",
        "    assert isinstance(other, (int,float)), \"only supporting int/float powers for now\"\n",
        "    out = Value(self.data**other, (self,),f'**{other}')\n",
        "    def _backward():\n",
        "      self.grad += other * (self.data** (other -1))*out.grad\n",
        "    out._backward = _backward\n",
        "    return out\n",
        "\n",
        "  def __rmul__(self,other):\n",
        "    return self * other\n",
        "\n",
        "  def __truediv__(self,other):\n",
        "    return self * other**-1\n",
        "\n",
        "  def __neg__(self):\n",
        "    return self * -1\n",
        "\n",
        "  def __sub__(self,other):\n",
        "    return self + (-other)\n",
        "\n",
        "  def tanh(self):\n",
        "    x = self.data\n",
        "    t = (math.exp(2*x) - 1)/(math.exp(2*x) + 1)\n",
        "    out = Value(t, (self, ), 'tanh')\n",
        "    def _backward():\n",
        "      self.grad += (1 - t**2) * out.grad\n",
        "    out._backward = _backward\n",
        "    return out\n",
        "\n",
        "  def exp(self):\n",
        "    x = self.data\n",
        "    out = Value(math.exp(x), (self, ), 'exp')\n",
        "    def _backward():\n",
        "      self.grad += out.data * out.grad\n",
        "    out._backward = _backward\n",
        "    return out\n",
        "\n",
        "  def backward(self):\n",
        "    topo = []\n",
        "    visited = set()\n",
        "    def build_topo(v):\n",
        "      if v not in visited:\n",
        "        visited.add(v)\n",
        "        for child in v._prev:\n",
        "          build_topo(child)\n",
        "        topo.append(v)\n",
        "    build_topo(self)\n",
        "    self.grad = 1.0\n",
        "    for node in reversed(topo):\n",
        "      node._backward()"
      ],
      "metadata": {
        "id": "P1YvOUG3tPVg"
      },
      "execution_count": 61,
      "outputs": []
    },
    {
      "cell_type": "markdown",
      "source": [
        "Backward Propagation"
      ],
      "metadata": {
        "id": "GNbSpgPz4sks"
      }
    },
    {
      "cell_type": "code",
      "source": [
        "#inputs\n",
        "x1 = Value(2.0, label = 'x1')\n",
        "x2 = Value(0.0, label = 'x2')\n",
        "#weight\n",
        "w1 = Value(-3.0, label = 'w1')\n",
        "w2 = Value(1.0, label = 'w2')\n",
        "#bias\n",
        "b = Value(6.9, label = 'b')\n",
        "\n",
        "x1w1 = x1*w1; x1w1.label = 'x1w1'\n",
        "x2w2 = x2*w2; x2w2.label = 'x2w2'\n",
        "x1w1x2w2 = x1w1 + x2w2\n",
        "x1w1x2w2.label = 'x1w1x2w2'\n",
        "n = x1w1x2w2 + b; n.label = 'n'\n",
        "\n",
        "e = (2*n).exp()\n",
        "o = (e-1)/(e+1)\n",
        "\n",
        "o.label = 'o'\n",
        "o.backward()"
      ],
      "metadata": {
        "id": "NzXECffj9c8t"
      },
      "execution_count": 62,
      "outputs": []
    },
    {
      "cell_type": "code",
      "source": [
        "import torch\n",
        "x1 = torch.Tensor([2.0]).double(); x1.requires_grad = True\n",
        "x2 = torch.Tensor([0.0]).double(); x2.requires_grad = True\n",
        "w1 = torch.Tensor([-3.0]).double(); w1.requires_grad = True\n",
        "w2 = torch.Tensor([1.0]).double(); w2.requires_grad = True\n",
        "b = torch.Tensor([6.9]).double(); b.requires_grad = True\n",
        "n = x1*w1 + x2*w2 + b\n",
        "o = torch.tanh(n)\n",
        "print(o.data.item())\n",
        "o.backward()\n",
        "print('---')\n",
        "print('x1', x1.grad.item())\n",
        "print('x2', x2.grad.item())\n",
        "print('w1', w1.grad.item())\n",
        "print('w2', w2.grad.item())\n"
      ],
      "metadata": {
        "colab": {
          "base_uri": "https://localhost:8080/"
        },
        "id": "8XDJkxN1OkaR",
        "outputId": "b4615cb5-5743-4438-fa0f-9e50fe728e87"
      },
      "execution_count": 63,
      "outputs": [
        {
          "output_type": "stream",
          "name": "stdout",
          "text": [
            "0.7162979166350794\n",
            "---\n",
            "x1 -1.4607518838727347\n",
            "x2 0.4869172946242449\n",
            "w1 0.9738345892484898\n",
            "w2 0.0\n"
          ]
        }
      ]
    },
    {
      "cell_type": "markdown",
      "source": [
        "Neural Network"
      ],
      "metadata": {
        "id": "mw7YKs8OQXxI"
      }
    },
    {
      "cell_type": "code",
      "source": [
        "import random\n",
        "class Neuron:\n",
        "  def __init__(self, nin):\n",
        "    self.w = [Value(random.uniform(-1,1)) for _ in range(nin)]\n",
        "    self.b = Value(random.uniform(-1,1))\n",
        "  def __call__(self,x):\n",
        "    #w * x + b\n",
        "    act = sum((wi*xi for wi,xi in zip(self.w,x)),self.b)\n",
        "    out = act.tanh()\n",
        "    return out\n",
        "  def parameters(self):\n",
        "    return self.w + [self.b]\n",
        "\n",
        "class Layer:\n",
        "  def __init__(self, nin, nout):\n",
        "    self.neurons = [Neuron(nin) for _ in range(nout)]\n",
        "  def __call__(self,x):\n",
        "    outs = [n(x) for n in self.neurons]\n",
        "    return outs[0] if len(outs) == 1 else outs\n",
        "  def parameters(self):\n",
        "    return [p for n in self.neurons for p in n.parameters()]\n",
        "\n",
        "class MLP:\n",
        "  def __init__(self, nin, nouts):\n",
        "    sz = [nin] + nouts\n",
        "    self.layers = [Layer(sz[i],sz[i+1]) for i in range(len(nouts))]\n",
        "  def __call__(self,x):\n",
        "    for layer in self.layers:\n",
        "      x = layer(x)\n",
        "    return x\n",
        "  def parameters(self):\n",
        "    return [p for layer in self.layers for p in layer.parameters()]\n"
      ],
      "metadata": {
        "id": "qHmvVmYQQPOC"
      },
      "execution_count": 64,
      "outputs": []
    },
    {
      "cell_type": "code",
      "source": [
        "x = [2.0 , 3.0, -1.0]\n",
        "n = MLP(3,[4,4,1])\n",
        "n(x)"
      ],
      "metadata": {
        "colab": {
          "base_uri": "https://localhost:8080/"
        },
        "id": "NUNo96ak0NxK",
        "outputId": "19300986-ef15-45cb-b1bf-32da85af7ebe"
      },
      "execution_count": 65,
      "outputs": [
        {
          "output_type": "execute_result",
          "data": {
            "text/plain": [
              "Value(data=-0.18428000385698107)"
            ]
          },
          "metadata": {},
          "execution_count": 65
        }
      ]
    },
    {
      "cell_type": "code",
      "source": [
        "xs = [\n",
        "    [2.0,3.0,-1.0],\n",
        "    [3.0,-1.0,0.5],\n",
        "    [0.5,1.0,1.0],\n",
        "    [1.0,1.0,-1.0],\n",
        "]\n",
        "ys = [1.0,-1.0,-1.0,1.0] # desired targets"
      ],
      "metadata": {
        "id": "y9ukPuBFW32E"
      },
      "execution_count": 66,
      "outputs": []
    },
    {
      "cell_type": "code",
      "source": [
        "for k in range(20):\n",
        "  ypred = [n(x) for x in xs]\n",
        "  loss = sum((yout - ygt)**2 for ygt,yout in zip(ys,ypred))\n",
        "  #backward pass\n",
        "  for p in n.parameters():\n",
        "    p.grad = 0.0\n",
        "  loss.backward()\n",
        "  #update\n",
        "  for p in n.parameters():\n",
        "    p.data += -0.05*p.grad\n",
        "\n",
        ""
      ],
      "metadata": {
        "id": "jcX6ACzy2PGp"
      },
      "execution_count": 71,
      "outputs": []
    }
  ]
}